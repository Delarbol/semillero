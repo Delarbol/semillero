{
 "cells": [
  {
   "cell_type": "markdown",
   "metadata": {},
   "source": [
    "# Liquidación de asuntos laborales\n",
    "## Liquidación de prestaciones"
   ]
  },
  {
   "cell_type": "code",
   "execution_count": null,
   "metadata": {},
   "outputs": [],
   "source": [
    "# Para contratos laborales a término indefinido\n",
    "# Renuncia normal\n",
    "\n",
    "#Necesitamos:\n",
    "\n",
    "#### Datos del trabajador (Valentina)\n",
    "\n",
    "# <- labor desempeñada\n",
    "#Fecha de inicio => DATE (número)\n",
    "#Fecha de finalización => DATE (número)\n",
    "#último Salario => Número (por ahora fijo)\n",
    "#Salario promedio (horas extras etc)\n",
    "# Auxilio lo calcularemos por ahora con base en el salario\n",
    "#Días trabajados Obtener de las fechas anterior\n",
    "\n",
    "#### Info del código Laboral (Joaquín)\n",
    "# Fórmulas para las liquidaciones (Prima, vacaciones, salarios, cesantías, intereses cesantías)\n",
    "# Fechas clave (prima, cesantías (intereses), )\n",
    "\n",
    "\n",
    "### Estructura del programa (Miguel)\n",
    "\n",
    "### Usuario Interfaz\n",
    "#nombre identificación, dirección, telefono\n",
    "# Trabajador - Inserta\n",
    "# Decirle qué hace, cómo usarlo\n",
    "# Pedirle los datos\n",
    "\n",
    "#Arrojar el valor discriminado por cada concepto y el total a pagar.\n",
    "\n",
    "### Oculto\n",
    "\n",
    "# Tener las fórmulas guardadas\n",
    "# Calcular el tie\n",
    "\n",
    "\n",
    "\n"
   ]
  },
  {
   "cell_type": "markdown",
   "metadata": {},
   "source": [
    "# Indemnizaciones (Natalia)"
   ]
  },
  {
   "cell_type": "code",
   "execution_count": null,
   "metadata": {},
   "outputs": [],
   "source": [
    "# Tipo de contrato\n",
    "# Fechas contrato término fijo\n",
    "#labor obra\n",
    "#\n"
   ]
  }
 ],
 "metadata": {
  "kernelspec": {
   "display_name": "Python 3",
   "language": "python",
   "name": "python3"
  },
  "language_info": {
   "codemirror_mode": {
    "name": "ipython",
    "version": 3
   },
   "file_extension": ".py",
   "mimetype": "text/x-python",
   "name": "python",
   "nbconvert_exporter": "python",
   "pygments_lexer": "ipython3",
   "version": "3.8.8"
  }
 },
 "nbformat": 4,
 "nbformat_minor": 4
}
