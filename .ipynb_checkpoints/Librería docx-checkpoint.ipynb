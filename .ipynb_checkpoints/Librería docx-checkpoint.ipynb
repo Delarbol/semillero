{
 "cells": [
  {
   "cell_type": "markdown",
   "id": "697e9ca2",
   "metadata": {},
   "source": [
    "# Librería DOCX"
   ]
  },
  {
   "cell_type": "markdown",
   "id": "0c2a88ff",
   "metadata": {},
   "source": [
    "## Instalar la librería"
   ]
  },
  {
   "cell_type": "code",
   "execution_count": 87,
   "id": "b0bf22e4",
   "metadata": {},
   "outputs": [
    {
     "name": "stdout",
     "output_type": "stream",
     "text": [
      "Requirement already satisfied: python-docx in c:\\programdata\\anaconda3\\lib\\site-packages (0.8.11)\n",
      "Requirement already satisfied: lxml>=2.3.2 in c:\\programdata\\anaconda3\\lib\\site-packages (from python-docx) (4.6.3)\n",
      "Note: you may need to restart the kernel to use updated packages.\n"
     ]
    }
   ],
   "source": [
    "pip install python-docx"
   ]
  },
  {
   "cell_type": "markdown",
   "id": "5c8e5d84",
   "metadata": {},
   "source": [
    "## Crear un documento"
   ]
  },
  {
   "cell_type": "code",
   "execution_count": 4,
   "id": "251ac54d",
   "metadata": {},
   "outputs": [],
   "source": [
    "#Crear un documento\n",
    "from docx import Document\n",
    "document = Document()\n",
    "document.save('prueba.docx')#es importante poner bien la extensión de word -> docx ej. prueba.docx"
   ]
  },
  {
   "cell_type": "markdown",
   "id": "0322f49e",
   "metadata": {},
   "source": [
    "## Añadiendo un parrafo"
   ]
  },
  {
   "cell_type": "code",
   "execution_count": 5,
   "id": "15bc3504",
   "metadata": {},
   "outputs": [],
   "source": [
    "paragraph = document.add_paragraph('hola mundo')\n",
    "document.save('prueba.docx') "
   ]
  },
  {
   "cell_type": "markdown",
   "id": "31df95d1",
   "metadata": {},
   "source": [
    "## Formato de fuente"
   ]
  },
  {
   "cell_type": "code",
   "execution_count": 6,
   "id": "3f4ee9ee",
   "metadata": {},
   "outputs": [],
   "source": [
    "from docx.shared import Pt # importar función\n",
    "style = document.styles['Body Text'] #defenir un estilo estos estan predefinidos y son \"normal\", \"citation\"etc\n",
    "font = style.font\n",
    "font.name = 'Arial Narrow'\n",
    "font.size = Pt(12)\n"
   ]
  },
  {
   "cell_type": "code",
   "execution_count": 7,
   "id": "3f079210",
   "metadata": {},
   "outputs": [],
   "source": [
    "#añadir un parrafo con negrita\n",
    "\n",
    "parrafo2 = document.add_paragraph()\n",
    "parrafo2.add_run('hola mundo').bold = True # es necesario utilizar add_run() ya que add paragraph no tiene atributos como volver italica\n",
    "document.save('prueba.docx') "
   ]
  },
  {
   "cell_type": "markdown",
   "id": "930f3b57",
   "metadata": {},
   "source": [
    "##  Alinear texto"
   ]
  },
  {
   "cell_type": "code",
   "execution_count": 8,
   "id": "b41d2d32",
   "metadata": {},
   "outputs": [],
   "source": [
    "from docx.enum.text import WD_ALIGN_PARAGRAPH\n",
    "from docx import Document\n",
    "document = Document()\n",
    "paragraph = document.add_paragraph('hola mundo')\n",
    "paragraph.alignment = WD_ALIGN_PARAGRAPH.JUSTIFY # se debe utilizar en mayúsculas CENTER, LEFT RIGHT, JUSTIFY etc\n",
    "paragraph2 = document.add_paragraph('hola mundo')\n",
    "paragraph2.alignment = WD_ALIGN_PARAGRAPH.CENTER\n",
    "document.save('nuevo.docx')"
   ]
  },
  {
   "cell_type": "markdown",
   "id": "2731b002",
   "metadata": {},
   "source": [
    "## Poner margenes"
   ]
  },
  {
   "cell_type": "code",
   "execution_count": 13,
   "id": "be8a93cb",
   "metadata": {},
   "outputs": [
    {
     "ename": "NameError",
     "evalue": "name 'documento' is not defined",
     "output_type": "error",
     "traceback": [
      "\u001b[1;31m---------------------------------------------------------------------------\u001b[0m",
      "\u001b[1;31mNameError\u001b[0m                                 Traceback (most recent call last)",
      "\u001b[1;32m<ipython-input-13-0d3f84c0a994>\u001b[0m in \u001b[0;36m<module>\u001b[1;34m\u001b[0m\n\u001b[0;32m      1\u001b[0m \u001b[1;32mfrom\u001b[0m \u001b[0mdocx\u001b[0m\u001b[1;33m.\u001b[0m\u001b[0mshared\u001b[0m \u001b[1;32mimport\u001b[0m \u001b[0mCm\u001b[0m\u001b[1;33m\u001b[0m\u001b[1;33m\u001b[0m\u001b[0m\n\u001b[0;32m      2\u001b[0m \u001b[1;33m\u001b[0m\u001b[0m\n\u001b[1;32m----> 3\u001b[1;33m \u001b[0mdocumento\u001b[0m\u001b[1;33m.\u001b[0m\u001b[0msection\u001b[0m\u001b[1;33m.\u001b[0m\u001b[0mheader_distance\u001b[0m \u001b[1;33m=\u001b[0m \u001b[0mCm\u001b[0m \u001b[1;33m(\u001b[0m\u001b[1;36m20\u001b[0m\u001b[1;33m)\u001b[0m\u001b[1;33m\u001b[0m\u001b[1;33m\u001b[0m\u001b[0m\n\u001b[0m\u001b[0;32m      4\u001b[0m \u001b[0mdocumento\u001b[0m\u001b[1;33m.\u001b[0m\u001b[0msection\u001b[0m\u001b[1;33m.\u001b[0m\u001b[0mleft_margin\u001b[0m \u001b[1;33m=\u001b[0m \u001b[0mCm\u001b[0m\u001b[1;33m(\u001b[0m\u001b[1;36m20\u001b[0m\u001b[1;33m)\u001b[0m\u001b[1;33m\u001b[0m\u001b[1;33m\u001b[0m\u001b[0m\n\u001b[0;32m      5\u001b[0m \u001b[0mdocumento\u001b[0m\u001b[1;33m.\u001b[0m\u001b[0msection\u001b[0m\u001b[1;33m.\u001b[0m\u001b[0mright_margin\u001b[0m \u001b[1;33m=\u001b[0m \u001b[0mCm\u001b[0m\u001b[1;33m(\u001b[0m\u001b[1;36m20\u001b[0m\u001b[1;33m)\u001b[0m\u001b[1;33m\u001b[0m\u001b[1;33m\u001b[0m\u001b[0m\n",
      "\u001b[1;31mNameError\u001b[0m: name 'documento' is not defined"
     ]
    }
   ],
   "source": [
    "from docx.shared import Cm\n",
    "\n",
    "documento.section.header_distance = Cm (20)\n",
    "documento.section.left_margin = Cm(20)\n",
    "documento.section.right_margin = Cm(20)\n",
    "documento.section.top_margin = Cm(20)\n",
    "documento.section.bottom_margin = Cm(20)\n",
    "document.save('prueba.docx')\n"
   ]
  },
  {
   "cell_type": "markdown",
   "id": "1aa74ad6",
   "metadata": {},
   "source": [
    "## Poner encabezado"
   ]
  },
  {
   "cell_type": "code",
   "execution_count": 10,
   "id": "b2f2f9ec",
   "metadata": {
    "scrolled": true
   },
   "outputs": [],
   "source": [
    "\n",
    "header = document.sections[0].header # poner la sección donde irá el encabezado\n",
    "parrafo4 = header.paragraphs[0] # añadir el parrafo con la posición en el encabezado\n",
    "parrafo4.text = \"Semillero cambiando el código\"\n",
    "document.save('prueba.docx')\n",
    "\n"
   ]
  },
  {
   "cell_type": "markdown",
   "id": "9d8e8975",
   "metadata": {},
   "source": [
    "# Ejemplo poder"
   ]
  },
  {
   "cell_type": "code",
   "execution_count": 14,
   "id": "0cc4732d",
   "metadata": {},
   "outputs": [],
   "source": [
    "from docx import Document\n",
    "from docx.enum.text import WD_ALIGN_PARAGRAPH\n",
    "from docx.shared import Cm\n",
    "from docx.shared import Pt \n",
    "doc = Document()\n",
    "#===================MARGENES=========================\n",
    "#section.left_margin = Cm(3)\n",
    "#section.right_margin = Cm(3)\n",
    "#section.top_margin = Cm(2.5)\n",
    "#section.bottom_margin = Cm(2.5)\n",
    "#=============FORMATO==========================================\n",
    "style = doc.styles['Body Text'] \n",
    "font = style.font\n",
    "font.name = 'Arial Narrow'\n",
    "font.size = Pt(12)\n",
    "#=============ENCABEZAD0=====================================================\n",
    "header = doc.sections[0].header # poner la sección donde irá el encabezado\n",
    "p = header.paragraphs[0]\n",
    "p.alignment = WD_ALIGN_PARAGRAPH.LEFT\n",
    "r= p.add_run()\n",
    "doc.sections[0].left_margin = Cm(1.3)\n",
    "doc.sections[0].top_margin = Cm(1.3)\n",
    "doc.sections[0].bottom_margin = Cm(1.3)\n",
    "r.add_picture('logo2.png',  width=Cm(18.0))\n",
    "#===============PRIMER PARRAFO==========================================================\n",
    "p1 = doc.add_paragraph()\n",
    "p1.alignment = WD_ALIGN_PARAGRAPH.JUSTIFY\n",
    "p1.add_run('\\nSeñor \\njuez, \\n\\n E.\\tS.\\tD.').bold = True\n",
    "\n",
    "#================SEGUNDO PARRAFO (REFERENCIA)====================================\n",
    "p2 = doc.add_paragraph()\n",
    "p2.alignment = WD_ALIGN_PARAGRAPH.RIGHT\n",
    "p2.add_run('\\t\\n\\n REFERENCIA:').bold = True\n",
    "p2.add_run(' Divorcio de ')\n",
    "p2.add_run('Juan').bold = True\n",
    "p2.add_run(' contra')\n",
    "p2.add_run(' John').bold = True\n",
    "#------------------------CUERPO DEL PODER---------------------------------------\n",
    "#====================TERCER PARRAFO========================================\n",
    "texto = '''\\n\\nJUAN, mayor de edad, domiciliado en la ciudad de Bogotá D.C., identificado con C.C.\n",
    "No. 32423432, y dirección de notificación electrónica juan@gmail.com, por medio del presente escrito, \n",
    "otorgo PODER ESPECIAL, AMPLIO Y SUFICIENTE a HECTOR , mayor de edad, domiciliado en Bogotá D.C., identificado con C.C. No. 324324, miembro activo del Consultorio Jurídico de la Universidad Externado de Colombia, portador del carné No.  23324, con dirección de notificación electrónica conjurlaboral@uexternado.edu.co. Con la finalidad de que en mi nombre  y representación, inicie y lleve hasta su terminación el DIVORCIO contra JOHN, mayor de edad, domiciliada en Bogotá D.C., identificada con C.C. No. 4576465476435. Con dirección de notificación electrónica: john@gmail.com.\n",
    "\n",
    "Mi apoderado queda facultado para solicitar medidas cautelares, desistir, renunciar, sustituir, recibir, transigir, asumir el presente poder y demás facultades en los términos del artículo 77 del Código General del Proceso.\n",
    "\n",
    "Sírvase, Señor Juez, reconocerle personería jurídica a mi apoderado, en los términos y para los efectos del presente poder.\n",
    "'''\n",
    "p3 = doc.add_paragraph(texto)\n",
    "p3.alignment = WD_ALIGN_PARAGRAPH.THAI_JUSTIFY\n",
    "\n",
    "#===============SALVAR DOCUMENTO=============================================\n",
    "doc.save('poder.docx')"
   ]
  },
  {
   "cell_type": "code",
   "execution_count": null,
   "id": "a96cf083",
   "metadata": {},
   "outputs": [],
   "source": []
  }
 ],
 "metadata": {
  "kernelspec": {
   "display_name": "Python 3",
   "language": "python",
   "name": "python3"
  },
  "language_info": {
   "codemirror_mode": {
    "name": "ipython",
    "version": 3
   },
   "file_extension": ".py",
   "mimetype": "text/x-python",
   "name": "python",
   "nbconvert_exporter": "python",
   "pygments_lexer": "ipython3",
   "version": "3.8.8"
  }
 },
 "nbformat": 4,
 "nbformat_minor": 5
}
