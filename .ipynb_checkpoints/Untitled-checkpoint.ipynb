{
 "cells": [
  {
   "cell_type": "code",
   "execution_count": 11,
   "id": "527d1053",
   "metadata": {},
   "outputs": [],
   "source": [
    "from docx import Document\n",
    "from docx.enum.text import WD_ALIGN_PARAGRAPH\n",
    "from docx.shared import Cm\n",
    "from docx.shared import Pt \n",
    "doc = Document()\n",
    "#===================MARGENES=========================\n",
    "section.left_margin = Cm(3)\n",
    "section.right_margin = Cm(3)\n",
    "section.top_margin = Cm(2.5)\n",
    "section.bottom_margin = Cm(2.5)\n",
    "#=============FORMATO==========================================\n",
    "style = doc.styles['Body Text'] \n",
    "font = style.font\n",
    "font.name = 'Arial Narrow'\n",
    "font.size = Pt(12)\n",
    "#=============ENCABEZAD0=====================================================\n",
    "header = doc.sections[0].header # poner la sección donde irá el encabezado\n",
    "p = header.paragraphs[0]\n",
    "p.alignment = WD_ALIGN_PARAGRAPH.LEFT\n",
    "r= p.add_run()\n",
    "doc.sections[0].left_margin = Cm(1.3)\n",
    "doc.sections[0].top_margin = Cm(1.3)\n",
    "doc.sections[0].bottom_margin = Cm(1.3)\n",
    "r.add_picture('logo2.png',  width=Cm(18.0))\n",
    "#===============PRIMER PARRAFO==========================================================\n",
    "p1 = doc.add_paragraph()\n",
    "p1.alignment = WD_ALIGN_PARAGRAPH.JUSTIFY\n",
    "p1.add_run('\\n Señor,').bold = True\n",
    "doc.save('poder.docx')"
   ]
  },
  {
   "cell_type": "code",
   "execution_count": null,
   "id": "3fe2fd8a",
   "metadata": {},
   "outputs": [],
   "source": []
  }
 ],
 "metadata": {
  "kernelspec": {
   "display_name": "Python 3",
   "language": "python",
   "name": "python3"
  },
  "language_info": {
   "codemirror_mode": {
    "name": "ipython",
    "version": 3
   },
   "file_extension": ".py",
   "mimetype": "text/x-python",
   "name": "python",
   "nbconvert_exporter": "python",
   "pygments_lexer": "ipython3",
   "version": "3.8.8"
  }
 },
 "nbformat": 4,
 "nbformat_minor": 5
}
