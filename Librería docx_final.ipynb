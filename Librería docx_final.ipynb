{
 "cells": [
  {
   "cell_type": "markdown",
   "id": "361aaca1",
   "metadata": {},
   "source": [
    "# Librería DOCX"
   ]
  },
  {
   "cell_type": "markdown",
   "id": "c475a765",
   "metadata": {},
   "source": [
    "## Instalar la librería"
   ]
  },
  {
   "cell_type": "code",
   "execution_count": 9,
   "id": "0b96fa5b",
   "metadata": {},
   "outputs": [
    {
     "name": "stdout",
     "output_type": "stream",
     "text": [
      "Requirement already satisfied: python-docx in c:\\users\\joaro\\anaconda3\\lib\\site-packages (0.8.11)\n",
      "Requirement already satisfied: lxml>=2.3.2 in c:\\users\\joaro\\anaconda3\\lib\\site-packages (from python-docx) (4.6.3)\n",
      "Note: you may need to restart the kernel to use updated packages.\n"
     ]
    }
   ],
   "source": [
    "pip install python-docx"
   ]
  },
  {
   "cell_type": "markdown",
   "id": "334399c3",
   "metadata": {},
   "source": [
    "## Crear un documento"
   ]
  },
  {
   "cell_type": "code",
   "execution_count": 1,
   "id": "9813b607",
   "metadata": {},
   "outputs": [],
   "source": [
    "#Crear un documento\n",
    "from docx import Document\n",
    "document = Document()\n",
    "document.save('prueba.docx')#es importante poner bien la extensión de word -> docx ej. prueba.docx"
   ]
  },
  {
   "cell_type": "markdown",
   "id": "1b96d945",
   "metadata": {},
   "source": [
    "## Añadiendo un parrafo"
   ]
  },
  {
   "cell_type": "code",
   "execution_count": 2,
   "id": "04f3a18d",
   "metadata": {},
   "outputs": [],
   "source": [
    "paragraph = document.add_paragraph('hola mundo')\n",
    "document.save('prueba.docx') "
   ]
  },
  {
   "cell_type": "markdown",
   "id": "85f4bd24",
   "metadata": {},
   "source": [
    "## Formato de fuente"
   ]
  },
  {
   "cell_type": "code",
   "execution_count": 3,
   "id": "696636be",
   "metadata": {},
   "outputs": [],
   "source": [
    "from docx.shared import Pt # importar función\n",
    "style = document.styles['Normal'] #defenir un estilo estos estan predefinidos y son \"normal\", \"citation\"etc\n",
    "font = style.font\n",
    "font.name = 'Arial Narrow'\n",
    "font.size = Pt(12)\n"
   ]
  },
  {
   "cell_type": "code",
   "execution_count": 4,
   "id": "10b64fb9",
   "metadata": {},
   "outputs": [],
   "source": [
    "#añadir un parrafo con negrita\n",
    "\n",
    "parrafo2 = document.add_paragraph()\n",
    "parrafo2.add_run('hola mundo').bold = True # es necesario utilizar add_run() ya que add paragraph no tiene atributos como volver italica\n",
    "document.save('prueba.docx') "
   ]
  },
  {
   "cell_type": "markdown",
   "id": "6eb006ef",
   "metadata": {},
   "source": [
    "##  Alinear texto"
   ]
  },
  {
   "cell_type": "code",
   "execution_count": 5,
   "id": "1d16d03a",
   "metadata": {},
   "outputs": [],
   "source": [
    "from docx.enum.text import WD_ALIGN_PARAGRAPH\n",
    "from docx import Document\n",
    "document = Document()\n",
    "paragraph = document.add_paragraph('hola mundo')\n",
    "paragraph.alignment = WD_ALIGN_PARAGRAPH.JUSTIFY # se debe utilizar en mayúsculas CENTER, LEFT RIGHT, JUSTIFY etc\n",
    "paragraph2 = document.add_paragraph('hola mundo')\n",
    "paragraph2.alignment = WD_ALIGN_PARAGRAPH.CENTER\n",
    "document.save('nuevo.docx')"
   ]
  },
  {
   "cell_type": "markdown",
   "id": "f84a1c7d",
   "metadata": {},
   "source": [
    "## Poner margenes"
   ]
  },
  {
   "cell_type": "code",
   "execution_count": 9,
   "id": "6939b662",
   "metadata": {},
   "outputs": [],
   "source": [
    "from docx.shared import Cm\n",
    "\n",
    "document.sections.header_distance = Cm (20)\n",
    "document.sections.left_margin = Cm(20)\n",
    "document.sections.right_margin = Cm(20)\n",
    "document.sections.top_margin = Cm(20)\n",
    "document.sections.bottom_margin = Cm(20)\n",
    "document.save('prueba.docx')\n"
   ]
  },
  {
   "cell_type": "code",
   "execution_count": 8,
   "id": "d88d09a9",
   "metadata": {},
   "outputs": [
    {
     "data": {
      "text/plain": [
       "['_Document__body',\n",
       " '__class__',\n",
       " '__delattr__',\n",
       " '__dir__',\n",
       " '__doc__',\n",
       " '__eq__',\n",
       " '__format__',\n",
       " '__ge__',\n",
       " '__getattribute__',\n",
       " '__gt__',\n",
       " '__hash__',\n",
       " '__init__',\n",
       " '__init_subclass__',\n",
       " '__le__',\n",
       " '__lt__',\n",
       " '__module__',\n",
       " '__ne__',\n",
       " '__new__',\n",
       " '__reduce__',\n",
       " '__reduce_ex__',\n",
       " '__repr__',\n",
       " '__setattr__',\n",
       " '__sizeof__',\n",
       " '__slots__',\n",
       " '__str__',\n",
       " '__subclasshook__',\n",
       " '_block_width',\n",
       " '_body',\n",
       " '_element',\n",
       " '_parent',\n",
       " '_part',\n",
       " 'add_heading',\n",
       " 'add_page_break',\n",
       " 'add_paragraph',\n",
       " 'add_picture',\n",
       " 'add_section',\n",
       " 'add_table',\n",
       " 'core_properties',\n",
       " 'element',\n",
       " 'inline_shapes',\n",
       " 'paragraphs',\n",
       " 'part',\n",
       " 'save',\n",
       " 'sections',\n",
       " 'settings',\n",
       " 'styles',\n",
       " 'tables']"
      ]
     },
     "execution_count": 8,
     "metadata": {},
     "output_type": "execute_result"
    }
   ],
   "source": [
    "dir(document)"
   ]
  },
  {
   "cell_type": "markdown",
   "id": "2cb9c570",
   "metadata": {},
   "source": [
    "## Poner encabezado"
   ]
  },
  {
   "cell_type": "code",
   "execution_count": 10,
   "id": "725e8acd",
   "metadata": {
    "scrolled": true
   },
   "outputs": [],
   "source": [
    "\n",
    "header = document.sections[0].header # poner la sección donde irá el encabezado\n",
    "parrafo4 = header.paragraphs[0] # añadir el parrafo con la posición en el encabezado\n",
    "parrafo4.text = \"Semillero cambiando el código\"\n",
    "document.save('prueba.docx')\n",
    "\n"
   ]
  },
  {
   "cell_type": "markdown",
   "id": "bd64eae3",
   "metadata": {},
   "source": [
    "# Ejemplo poder"
   ]
  },
  {
   "cell_type": "code",
   "execution_count": 3,
   "id": "4fe86632",
   "metadata": {},
   "outputs": [],
   "source": [
    "from docx import Document\n",
    "from docx.enum.text import WD_ALIGN_PARAGRAPH\n",
    "from docx.shared import Cm\n",
    "from docx.shared import Pt \n",
    "doc = Document()\n",
    "doc = Document()\n",
    "def negrita(parrafo,texto):\n",
    "    parrafo.add_run(texto).bold = True\n",
    "    \n",
    "#===================MARGENES=========================\n",
    "#section.left_margin = Cm(3)\n",
    "#section.right_margin = Cm(3)\n",
    "#section.top_margin = Cm(2.5)\n",
    "#section.bottom_margin = Cm(2.5)\n",
    "#=============FORMATO==========================================\n",
    "style = doc.styles['Normal'] \n",
    "font = style.font\n",
    "font.name = 'Arial Narrow'\n",
    "font.size = Pt(12)\n",
    "#=============ENCABEZAD0=====================================================\n",
    "header = doc.sections[0].header # poner la sección donde irá el encabezado\n",
    "p = header.paragraphs[0]\n",
    "p.alignment = WD_ALIGN_PARAGRAPH.LEFT\n",
    "r= p.add_run()\n",
    "doc.sections[0].left_margin = Cm(1.3)\n",
    "doc.sections[0].top_margin = Cm(1.3)\n",
    "doc.sections[0].bottom_margin = Cm(1.3)\n",
    "# r.add_picture('logo2.png',  width=Cm(18.0))\n",
    "#===============PRIMER PARRAFO==========================================================\n",
    "p1 = doc.add_paragraph()\n",
    "p1.alignment = WD_ALIGN_PARAGRAPH.JUSTIFY\n",
    "p1.add_run('\\nSeñor \\njuez, \\n\\n E.\\tS.\\tD.').bold = True\n",
    "negrita(p1,'hola')\n",
    "#================SEGUNDO PARRAFO (REFERENCIA)====================================\n",
    "p2 = doc.add_paragraph()\n",
    "p2.alignment = WD_ALIGN_PARAGRAPH.RIGHT\n",
    "p2.add_run('\\t\\n\\n REFERENCIA:').bold = True\n",
    "p2.add_run(' Divorcio de ')\n",
    "p2.add_run('Juan').bold = True\n",
    "p2.add_run(' contra')\n",
    "p2.add_run(' John').bold = True\n",
    "negrita(p1, 'hola')\n",
    "#------------------------CUERPO DEL PODER---------------------------------------\n",
    "#====================TERCER PARRAFO========================================\n",
    "p3 = doc.add_paragraph()\n",
    "# p3.add_run(\"\")\n",
    "\n",
    "texto = f'''\\n\\n Juan, mayor de edad, domiciliado en la ciudad de Bogotá D.C., identificado con C.C.\n",
    "No. 32423432, y dirección de notificación electrónica juan@gmail.com, por medio del presente escrito, \n",
    "otorgo PODER ESPECIAL, AMPLIO Y SUFICIENTE a HECTOR , mayor de edad, domiciliado en Bogotá D.C., identificado con C.C. No. 324324, miembro activo del Consultorio Jurídico de la Universidad Externado de Colombia, portador del carné No.  23324, con dirección de notificación electrónica conjurlaboral@uexternado.edu.co. Con la finalidad de que en mi nombre  y representación, inicie y lleve hasta su terminación el DIVORCIO contra JOHN, mayor de edad, domiciliada en Bogotá D.C., identificada con C.C. No. 4576465476435. Con dirección de notificación electrónica: john@gmail.com.\n",
    "\n",
    "Mi apoderado queda facultado para solicitar medidas cautelares, desistir, renunciar, sustituir, recibir, transigir, asumir el presente poder y demás facultades en los términos del artículo 77 del Código General del Proceso.\n",
    "\n",
    "Sírvase, Señor Juez, reconocerle personería jurídica a mi apoderado, en los términos y para los efectos del presente poder.\n",
    "'''\n",
    "# negrita(p3,'Juan')\n",
    "p3.add_run(texto)\n",
    "\n",
    "p3.alignment = WD_ALIGN_PARAGRAPH.THAI_JUSTIFY\n",
    "\n",
    "#===============SALVAR DOCUMENTO=============================================\n",
    "doc.save('./TEST2/poder.docx')"
   ]
  },
  {
   "cell_type": "code",
   "execution_count": 21,
   "id": "4fa94c17",
   "metadata": {},
   "outputs": [],
   "source": [
    "def negrita(parrafo,texto):\n",
    "    \"\"\"Esta función agrega en negrilla el texto en el párrafo dado\"\"\"\n",
    "    parrafo.add_run(texto).bold = True"
   ]
  },
  {
   "cell_type": "code",
   "execution_count": 33,
   "id": "cf14498d",
   "metadata": {},
   "outputs": [],
   "source": [
    "nom_poder=\"Valentina Gordillo Martínez\"\n",
    "gen_poder=\"a\"\n",
    "id_poder = \"CC.\"\n",
    "ced_poder = \"105302546\"\n",
    "email=\"valengordillo@hotmail.com\"\n",
    "nom_apo=\"Joaquín Ron\"\n",
    "gen_apo=\"o\"\n",
    "id_apo = \"CE\"\n",
    "ced_apo=\"1018546879\"\n",
    "portadore = \"\"\n",
    "num_car = \"12345\"\n",
    "email_apo= \"joaron@gmail.com\"\n",
    "tipo_proceso = \"PROCESO DE DIVORCIO\"\n",
    "nom_contra=\"Laura Huertas\"\n",
    "gen_contra=\"a\"\n",
    "id_contra = \"CC\"\n",
    "ced_contra=\"1056987484\"\n",
    "email_2=\"lauh@latinmail.com\"\n"
   ]
  },
  {
   "cell_type": "code",
   "execution_count": 38,
   "id": "c5e9727b",
   "metadata": {},
   "outputs": [],
   "source": [
    "from docx import Document\n",
    "from docx.enum.text import WD_ALIGN_PARAGRAPH\n",
    "from docx.shared import Cm\n",
    "from docx.shared import Pt \n",
    "doc = Document()\n",
    "    \n",
    "#===================MÁRGENES=========================\n",
    "doc.sections[0].left_margin = Cm(2)\n",
    "doc.sections[0].top_margin = Cm(2)\n",
    "doc.sections[0].bottom_margin = Cm(2)\n",
    "doc.sections[0].right_margin = Cm(2)\n",
    "#=============FORMATO==========================================\n",
    "style = doc.styles['Normal'] \n",
    "font = style.font\n",
    "font.name = 'Arial Narrow'\n",
    "font.size = Pt(12)\n",
    "#=============ENCABEZAD0=====================================================\n",
    "header = doc.sections[0].header # poner la sección donde irá el encabezado\n",
    "p = header.paragraphs[0]\n",
    "p.alignment = WD_ALIGN_PARAGRAPH.LEFT\n",
    "r= p.add_run()\n",
    "r.add_picture(r'D:\\Cambia\\habeas_app\\static\\logo2.png',  width=Cm(18.0))\n",
    "#===============PRIMER PARRAFO==========================================================\n",
    "p1 = doc.add_paragraph()\n",
    "p1.alignment = WD_ALIGN_PARAGRAPH.JUSTIFY\n",
    "p1.add_run('\\nSeñor \\nJuez, \\n\\nE.\\tS.\\tD.').bold = True\n",
    "#================SEGUNDO PARRAFO (REFERENCIA)====================================\n",
    "p2 = doc.add_paragraph()\n",
    "p2.alignment = WD_ALIGN_PARAGRAPH.RIGHT\n",
    "p2.add_run('\\t\\n\\n REFERENCIA:').bold = True\n",
    "p2.add_run(' Divorcio de ')\n",
    "p2.add_run(f'{nom_poder}').bold = True\n",
    "p2.add_run(' contra')\n",
    "p2.add_run(f' {nom_contra}').bold = True\n",
    "#------------------------CUERPO DEL PODER---------------------------------------\n",
    "#====================TERCER PARRAFO========================================\n",
    "p3 = doc.add_paragraph()\n",
    "p3.add_run(\"\\n\\n\")\n",
    "negrita(p3,f'{nom_poder}')   ### Negrilla\n",
    "p3.add_run(\", mayor de edad, domiciliad\")\n",
    "p3.add_run(f\"{gen_poder} en la ciudad de Bogotá D.C., identificad{gen_poder} con \\\n",
    "{id_poder} No. {ced_poder} y dirección de notificación electrónica {email}\\\n",
    ", por medio del presente escrito, otorgo \")\n",
    "negrita(p3,f\"PODER ESPECIAL, AMPLIO Y SUFICIENTE\") ### Negrilla\n",
    "p3.add_run(f\" a \")\n",
    "negrita(p3,f\"{nom_apo}\")  ### Negrilla\n",
    "p3.add_run(f\", mayor de edad, domiciliad{gen_apo} en Bogotá D.C., \\\n",
    "identificad{gen_apo} con {id_apo}\\\n",
    " No. {ced_apo}, miembro activo del Consultorio Jurídico de la Universidad \\\n",
    "Externado de Colombia, portador{portadore} del carné No. {num_car}, \\\n",
    "con dirección de notificación electrónica {email_apo}, \\\n",
    "con la finalidad de que en mi nombre y representación, inicie y lleve \\\n",
    "hasta su terminación el {tipo_proceso} contra \")\n",
    "negrita(p3,f\"{nom_contra}\") ### Negrilla\n",
    "p3.add_run(f\", mayor de edad, domiciliad{gen_contra} en Bogotá D.C., \\\n",
    "identificad{gen_contra}\\u00A0con\\u00A0{id_contra}\\u00A0No.\\u00A0{ced_contra}.\\n\\\n",
    "{email_2} \\n\\\n",
    "Mi apoderad{gen_apo} queda facultad{gen_apo} para solicitar medidas cautelares, \\\n",
    "desistir, renunciar, sustituir, recibir, transigir, asumir el presente poder y \\\n",
    "demás facultades en los términos del artículo 77 del \\\n",
    "Código General del Proceso. \\n\")\n",
    "\n",
    "p4 = doc.add_paragraph()\n",
    "p4.add_run(f\"Sírvase, Señor Juez, reconocerle personería jurídica a mi apoderad{gen_apo}, \\\n",
    "en los términos y para los efectos del\\u00A0presente\\u00A0poder. \\u00A0\\n\" )\n",
    "\n",
    "p5 = doc.add_paragraph()\n",
    "p5.add_run(\"Del Señor Juez,\\n\\n\\n\\n\")\n",
    "negrita(p5,f\"{nom_poder}\\n\")\n",
    "p5.add_run(f\"{id_poder} No. {ced_poder}\\nAcepto,\\n\\n\\n\\n\")\n",
    "negrita(p5,f\"{nom_apo}\\n\")\n",
    "p5.add_run(f\"{id_apo} No. {ced_apo} \\nCarné Consultorio : {num_car} \\n\\\n",
    "Dirección de notificación electrónica: {email_apo}\")\n",
    "\n",
    "\n",
    "p3.alignment = WD_ALIGN_PARAGRAPH.THAI_JUSTIFY\n",
    "p4.alignment = WD_ALIGN_PARAGRAPH.THAI_JUSTIFY\n",
    "\n",
    "#===============SALVAR DOCUMENTO=============================================\n",
    "doc.save('poder1.docx')"
   ]
  },
  {
   "cell_type": "code",
   "execution_count": 29,
   "id": "6faee1bc",
   "metadata": {},
   "outputs": [
    {
     "data": {
      "text/plain": [
       "'a'"
      ]
     },
     "execution_count": 29,
     "metadata": {},
     "output_type": "execute_result"
    }
   ],
   "source": [
    "f\"{gen_poder}\""
   ]
  },
  {
   "cell_type": "code",
   "execution_count": null,
   "id": "4f25bf59",
   "metadata": {},
   "outputs": [],
   "source": []
  }
 ],
 "metadata": {
  "kernelspec": {
   "display_name": "Python 3",
   "language": "python",
   "name": "python3"
  },
  "language_info": {
   "codemirror_mode": {
    "name": "ipython",
    "version": 3
   },
   "file_extension": ".py",
   "mimetype": "text/x-python",
   "name": "python",
   "nbconvert_exporter": "python",
   "pygments_lexer": "ipython3",
   "version": "3.8.8"
  }
 },
 "nbformat": 4,
 "nbformat_minor": 5
}
