{
 "cells": [
  {
   "cell_type": "markdown",
   "metadata": {},
   "source": [
    "# Librería DOCX"
   ]
  },
  {
   "cell_type": "markdown",
   "metadata": {},
   "source": [
    "## Instalar la librería"
   ]
  },
  {
   "cell_type": "code",
   "execution_count": 9,
   "metadata": {},
   "outputs": [
    {
     "name": "stdout",
     "output_type": "stream",
     "text": [
      "Requirement already satisfied: python-docx in c:\\users\\joaro\\anaconda3\\lib\\site-packages (0.8.11)\n",
      "Requirement already satisfied: lxml>=2.3.2 in c:\\users\\joaro\\anaconda3\\lib\\site-packages (from python-docx) (4.6.3)\n",
      "Note: you may need to restart the kernel to use updated packages.\n"
     ]
    }
   ],
   "source": [
    "pip install python-docx"
   ]
  },
  {
   "cell_type": "markdown",
   "metadata": {},
   "source": [
    "## Crear un documento"
   ]
  },
  {
   "cell_type": "code",
   "execution_count": 1,
   "metadata": {},
   "outputs": [],
   "source": [
    "#Crear un documento\n",
    "from docx import Document\n",
    "document = Document()\n",
    "document.save('prueba.docx')#es importante poner bien la extensión de word -> docx ej. prueba.docx"
   ]
  },
  {
   "cell_type": "markdown",
   "metadata": {},
   "source": [
    "## Añadiendo un parrafo"
   ]
  },
  {
   "cell_type": "code",
   "execution_count": 2,
   "metadata": {},
   "outputs": [],
   "source": [
    "paragraph = document.add_paragraph('hola mundo')\n",
    "document.save('prueba.docx') "
   ]
  },
  {
   "cell_type": "markdown",
   "metadata": {},
   "source": [
    "## Formato de fuente"
   ]
  },
  {
   "cell_type": "code",
   "execution_count": 3,
   "metadata": {},
   "outputs": [],
   "source": [
    "from docx.shared import Pt # importar función\n",
    "style = document.styles['Normal'] #defenir un estilo estos estan predefinidos y son \"normal\", \"citation\"etc\n",
    "font = style.font\n",
    "font.name = 'Arial Narrow'\n",
    "font.size = Pt(12)\n"
   ]
  },
  {
   "cell_type": "code",
   "execution_count": 4,
   "metadata": {},
   "outputs": [],
   "source": [
    "#añadir un parrafo con negrita\n",
    "\n",
    "parrafo2 = document.add_paragraph()\n",
    "parrafo2.add_run('hola mundo').bold = True # es necesario utilizar add_run() ya que add paragraph no tiene atributos como volver italica\n",
    "document.save('prueba.docx') "
   ]
  },
  {
   "cell_type": "markdown",
   "metadata": {},
   "source": [
    "##  Alinear texto"
   ]
  },
  {
   "cell_type": "code",
   "execution_count": 5,
   "metadata": {},
   "outputs": [],
   "source": [
    "from docx.enum.text import WD_ALIGN_PARAGRAPH\n",
    "from docx import Document\n",
    "document = Document()\n",
    "paragraph = document.add_paragraph('hola mundo')\n",
    "paragraph.alignment = WD_ALIGN_PARAGRAPH.JUSTIFY # se debe utilizar en mayúsculas CENTER, LEFT RIGHT, JUSTIFY etc\n",
    "paragraph2 = document.add_paragraph('hola mundo')\n",
    "paragraph2.alignment = WD_ALIGN_PARAGRAPH.CENTER\n",
    "document.save('nuevo.docx')"
   ]
  },
  {
   "cell_type": "markdown",
   "metadata": {},
   "source": [
    "## Poner margenes"
   ]
  },
  {
   "cell_type": "code",
   "execution_count": 9,
   "metadata": {},
   "outputs": [],
   "source": [
    "from docx.shared import Cm\n",
    "\n",
    "document.sections.header_distance = Cm (20)\n",
    "document.sections.left_margin = Cm(20)\n",
    "document.sections.right_margin = Cm(20)\n",
    "document.sections.top_margin = Cm(20)\n",
    "document.sections.bottom_margin = Cm(20)\n",
    "document.save('prueba.docx')\n"
   ]
  },
  {
   "cell_type": "code",
   "execution_count": 8,
   "metadata": {},
   "outputs": [
    {
     "data": {
      "text/plain": [
       "['_Document__body',\n",
       " '__class__',\n",
       " '__delattr__',\n",
       " '__dir__',\n",
       " '__doc__',\n",
       " '__eq__',\n",
       " '__format__',\n",
       " '__ge__',\n",
       " '__getattribute__',\n",
       " '__gt__',\n",
       " '__hash__',\n",
       " '__init__',\n",
       " '__init_subclass__',\n",
       " '__le__',\n",
       " '__lt__',\n",
       " '__module__',\n",
       " '__ne__',\n",
       " '__new__',\n",
       " '__reduce__',\n",
       " '__reduce_ex__',\n",
       " '__repr__',\n",
       " '__setattr__',\n",
       " '__sizeof__',\n",
       " '__slots__',\n",
       " '__str__',\n",
       " '__subclasshook__',\n",
       " '_block_width',\n",
       " '_body',\n",
       " '_element',\n",
       " '_parent',\n",
       " '_part',\n",
       " 'add_heading',\n",
       " 'add_page_break',\n",
       " 'add_paragraph',\n",
       " 'add_picture',\n",
       " 'add_section',\n",
       " 'add_table',\n",
       " 'core_properties',\n",
       " 'element',\n",
       " 'inline_shapes',\n",
       " 'paragraphs',\n",
       " 'part',\n",
       " 'save',\n",
       " 'sections',\n",
       " 'settings',\n",
       " 'styles',\n",
       " 'tables']"
      ]
     },
     "execution_count": 8,
     "metadata": {},
     "output_type": "execute_result"
    }
   ],
   "source": [
    "dir(document)"
   ]
  },
  {
   "cell_type": "markdown",
   "metadata": {},
   "source": [
    "## Poner encabezado"
   ]
  },
  {
   "cell_type": "code",
   "execution_count": 10,
   "metadata": {
    "scrolled": true
   },
   "outputs": [],
   "source": [
    "\n",
    "header = document.sections[0].header # poner la sección donde irá el encabezado\n",
    "parrafo4 = header.paragraphs[0] # añadir el parrafo con la posición en el encabezado\n",
    "parrafo4.text = \"Semillero cambiando el código\"\n",
    "document.save('prueba.docx')\n",
    "\n"
   ]
  },
  {
   "cell_type": "markdown",
   "metadata": {},
   "source": [
    "# Ejemplo poder"
   ]
  },
  {
   "cell_type": "code",
   "execution_count": 20,
   "metadata": {},
   "outputs": [
    {
     "ename": "ValueError",
     "evalue": "All strings must be XML compatible: Unicode or ASCII, no NULL bytes or control characters",
     "output_type": "error",
     "traceback": [
      "\u001b[1;31m---------------------------------------------------------------------------\u001b[0m",
      "\u001b[1;31mValueError\u001b[0m                                Traceback (most recent call last)",
      "\u001b[1;32m<ipython-input-20-4249ed422bf1>\u001b[0m in \u001b[0;36m<module>\u001b[1;34m\u001b[0m\n\u001b[0;32m     55\u001b[0m '''\n\u001b[0;32m     56\u001b[0m \u001b[1;31m# negrita(p3,'Juan')\u001b[0m\u001b[1;33m\u001b[0m\u001b[1;33m\u001b[0m\u001b[1;33m\u001b[0m\u001b[0m\n\u001b[1;32m---> 57\u001b[1;33m \u001b[0mp3\u001b[0m\u001b[1;33m.\u001b[0m\u001b[0madd_run\u001b[0m\u001b[1;33m(\u001b[0m\u001b[0mtexto\u001b[0m\u001b[1;33m)\u001b[0m\u001b[1;33m\u001b[0m\u001b[1;33m\u001b[0m\u001b[0m\n\u001b[0m\u001b[0;32m     58\u001b[0m \u001b[1;33m\u001b[0m\u001b[0m\n\u001b[0;32m     59\u001b[0m \u001b[0mp3\u001b[0m\u001b[1;33m.\u001b[0m\u001b[0malignment\u001b[0m \u001b[1;33m=\u001b[0m \u001b[0mWD_ALIGN_PARAGRAPH\u001b[0m\u001b[1;33m.\u001b[0m\u001b[0mTHAI_JUSTIFY\u001b[0m\u001b[1;33m\u001b[0m\u001b[1;33m\u001b[0m\u001b[0m\n",
      "\u001b[1;32m~\\AppData\\Local\\Continuum\\anaconda3\\lib\\site-packages\\docx\\text\\paragraph.py\u001b[0m in \u001b[0;36madd_run\u001b[1;34m(self, text, style)\u001b[0m\n\u001b[0;32m     35\u001b[0m         \u001b[0mrun\u001b[0m \u001b[1;33m=\u001b[0m \u001b[0mRun\u001b[0m\u001b[1;33m(\u001b[0m\u001b[0mr\u001b[0m\u001b[1;33m,\u001b[0m \u001b[0mself\u001b[0m\u001b[1;33m)\u001b[0m\u001b[1;33m\u001b[0m\u001b[1;33m\u001b[0m\u001b[0m\n\u001b[0;32m     36\u001b[0m         \u001b[1;32mif\u001b[0m \u001b[0mtext\u001b[0m\u001b[1;33m:\u001b[0m\u001b[1;33m\u001b[0m\u001b[1;33m\u001b[0m\u001b[0m\n\u001b[1;32m---> 37\u001b[1;33m             \u001b[0mrun\u001b[0m\u001b[1;33m.\u001b[0m\u001b[0mtext\u001b[0m \u001b[1;33m=\u001b[0m \u001b[0mtext\u001b[0m\u001b[1;33m\u001b[0m\u001b[1;33m\u001b[0m\u001b[0m\n\u001b[0m\u001b[0;32m     38\u001b[0m         \u001b[1;32mif\u001b[0m \u001b[0mstyle\u001b[0m\u001b[1;33m:\u001b[0m\u001b[1;33m\u001b[0m\u001b[1;33m\u001b[0m\u001b[0m\n\u001b[0;32m     39\u001b[0m             \u001b[0mrun\u001b[0m\u001b[1;33m.\u001b[0m\u001b[0mstyle\u001b[0m \u001b[1;33m=\u001b[0m \u001b[0mstyle\u001b[0m\u001b[1;33m\u001b[0m\u001b[1;33m\u001b[0m\u001b[0m\n",
      "\u001b[1;32m~\\AppData\\Local\\Continuum\\anaconda3\\lib\\site-packages\\docx\\text\\run.py\u001b[0m in \u001b[0;36mtext\u001b[1;34m(self, text)\u001b[0m\n\u001b[0;32m    161\u001b[0m     \u001b[1;33m@\u001b[0m\u001b[0mtext\u001b[0m\u001b[1;33m.\u001b[0m\u001b[0msetter\u001b[0m\u001b[1;33m\u001b[0m\u001b[1;33m\u001b[0m\u001b[0m\n\u001b[0;32m    162\u001b[0m     \u001b[1;32mdef\u001b[0m \u001b[0mtext\u001b[0m\u001b[1;33m(\u001b[0m\u001b[0mself\u001b[0m\u001b[1;33m,\u001b[0m \u001b[0mtext\u001b[0m\u001b[1;33m)\u001b[0m\u001b[1;33m:\u001b[0m\u001b[1;33m\u001b[0m\u001b[1;33m\u001b[0m\u001b[0m\n\u001b[1;32m--> 163\u001b[1;33m         \u001b[0mself\u001b[0m\u001b[1;33m.\u001b[0m\u001b[0m_r\u001b[0m\u001b[1;33m.\u001b[0m\u001b[0mtext\u001b[0m \u001b[1;33m=\u001b[0m \u001b[0mtext\u001b[0m\u001b[1;33m\u001b[0m\u001b[1;33m\u001b[0m\u001b[0m\n\u001b[0m\u001b[0;32m    164\u001b[0m \u001b[1;33m\u001b[0m\u001b[0m\n\u001b[0;32m    165\u001b[0m     \u001b[1;33m@\u001b[0m\u001b[0mproperty\u001b[0m\u001b[1;33m\u001b[0m\u001b[1;33m\u001b[0m\u001b[0m\n",
      "\u001b[1;32m~\\AppData\\Local\\Continuum\\anaconda3\\lib\\site-packages\\docx\\oxml\\text\\run.py\u001b[0m in \u001b[0;36mtext\u001b[1;34m(self, text)\u001b[0m\n\u001b[0;32m    102\u001b[0m     \u001b[1;32mdef\u001b[0m \u001b[0mtext\u001b[0m\u001b[1;33m(\u001b[0m\u001b[0mself\u001b[0m\u001b[1;33m,\u001b[0m \u001b[0mtext\u001b[0m\u001b[1;33m)\u001b[0m\u001b[1;33m:\u001b[0m\u001b[1;33m\u001b[0m\u001b[1;33m\u001b[0m\u001b[0m\n\u001b[0;32m    103\u001b[0m         \u001b[0mself\u001b[0m\u001b[1;33m.\u001b[0m\u001b[0mclear_content\u001b[0m\u001b[1;33m(\u001b[0m\u001b[1;33m)\u001b[0m\u001b[1;33m\u001b[0m\u001b[1;33m\u001b[0m\u001b[0m\n\u001b[1;32m--> 104\u001b[1;33m         \u001b[0m_RunContentAppender\u001b[0m\u001b[1;33m.\u001b[0m\u001b[0mappend_to_run_from_text\u001b[0m\u001b[1;33m(\u001b[0m\u001b[0mself\u001b[0m\u001b[1;33m,\u001b[0m \u001b[0mtext\u001b[0m\u001b[1;33m)\u001b[0m\u001b[1;33m\u001b[0m\u001b[1;33m\u001b[0m\u001b[0m\n\u001b[0m\u001b[0;32m    105\u001b[0m \u001b[1;33m\u001b[0m\u001b[0m\n\u001b[0;32m    106\u001b[0m \u001b[1;33m\u001b[0m\u001b[0m\n",
      "\u001b[1;32m~\\AppData\\Local\\Continuum\\anaconda3\\lib\\site-packages\\docx\\oxml\\text\\run.py\u001b[0m in \u001b[0;36mappend_to_run_from_text\u001b[1;34m(cls, r, text)\u001b[0m\n\u001b[0;32m    132\u001b[0m         \"\"\"\n\u001b[0;32m    133\u001b[0m         \u001b[0mappender\u001b[0m \u001b[1;33m=\u001b[0m \u001b[0mcls\u001b[0m\u001b[1;33m(\u001b[0m\u001b[0mr\u001b[0m\u001b[1;33m)\u001b[0m\u001b[1;33m\u001b[0m\u001b[1;33m\u001b[0m\u001b[0m\n\u001b[1;32m--> 134\u001b[1;33m         \u001b[0mappender\u001b[0m\u001b[1;33m.\u001b[0m\u001b[0madd_text\u001b[0m\u001b[1;33m(\u001b[0m\u001b[0mtext\u001b[0m\u001b[1;33m)\u001b[0m\u001b[1;33m\u001b[0m\u001b[1;33m\u001b[0m\u001b[0m\n\u001b[0m\u001b[0;32m    135\u001b[0m \u001b[1;33m\u001b[0m\u001b[0m\n\u001b[0;32m    136\u001b[0m     \u001b[1;32mdef\u001b[0m \u001b[0madd_text\u001b[0m\u001b[1;33m(\u001b[0m\u001b[0mself\u001b[0m\u001b[1;33m,\u001b[0m \u001b[0mtext\u001b[0m\u001b[1;33m)\u001b[0m\u001b[1;33m:\u001b[0m\u001b[1;33m\u001b[0m\u001b[1;33m\u001b[0m\u001b[0m\n",
      "\u001b[1;32m~\\AppData\\Local\\Continuum\\anaconda3\\lib\\site-packages\\docx\\oxml\\text\\run.py\u001b[0m in \u001b[0;36madd_text\u001b[1;34m(self, text)\u001b[0m\n\u001b[0;32m    140\u001b[0m         \"\"\"\n\u001b[0;32m    141\u001b[0m         \u001b[1;32mfor\u001b[0m \u001b[0mchar\u001b[0m \u001b[1;32min\u001b[0m \u001b[0mtext\u001b[0m\u001b[1;33m:\u001b[0m\u001b[1;33m\u001b[0m\u001b[1;33m\u001b[0m\u001b[0m\n\u001b[1;32m--> 142\u001b[1;33m             \u001b[0mself\u001b[0m\u001b[1;33m.\u001b[0m\u001b[0madd_char\u001b[0m\u001b[1;33m(\u001b[0m\u001b[0mchar\u001b[0m\u001b[1;33m)\u001b[0m\u001b[1;33m\u001b[0m\u001b[1;33m\u001b[0m\u001b[0m\n\u001b[0m\u001b[0;32m    143\u001b[0m         \u001b[0mself\u001b[0m\u001b[1;33m.\u001b[0m\u001b[0mflush\u001b[0m\u001b[1;33m(\u001b[0m\u001b[1;33m)\u001b[0m\u001b[1;33m\u001b[0m\u001b[1;33m\u001b[0m\u001b[0m\n\u001b[0;32m    144\u001b[0m \u001b[1;33m\u001b[0m\u001b[0m\n",
      "\u001b[1;32m~\\AppData\\Local\\Continuum\\anaconda3\\lib\\site-packages\\docx\\oxml\\text\\run.py\u001b[0m in \u001b[0;36madd_char\u001b[1;34m(self, char)\u001b[0m\n\u001b[0;32m    155\u001b[0m             \u001b[0mself\u001b[0m\u001b[1;33m.\u001b[0m\u001b[0m_r\u001b[0m\u001b[1;33m.\u001b[0m\u001b[0madd_tab\u001b[0m\u001b[1;33m(\u001b[0m\u001b[1;33m)\u001b[0m\u001b[1;33m\u001b[0m\u001b[1;33m\u001b[0m\u001b[0m\n\u001b[0;32m    156\u001b[0m         \u001b[1;32melif\u001b[0m \u001b[0mchar\u001b[0m \u001b[1;32min\u001b[0m \u001b[1;34m'\\r\\n'\u001b[0m\u001b[1;33m:\u001b[0m\u001b[1;33m\u001b[0m\u001b[1;33m\u001b[0m\u001b[0m\n\u001b[1;32m--> 157\u001b[1;33m             \u001b[0mself\u001b[0m\u001b[1;33m.\u001b[0m\u001b[0mflush\u001b[0m\u001b[1;33m(\u001b[0m\u001b[1;33m)\u001b[0m\u001b[1;33m\u001b[0m\u001b[1;33m\u001b[0m\u001b[0m\n\u001b[0m\u001b[0;32m    158\u001b[0m             \u001b[0mself\u001b[0m\u001b[1;33m.\u001b[0m\u001b[0m_r\u001b[0m\u001b[1;33m.\u001b[0m\u001b[0madd_br\u001b[0m\u001b[1;33m(\u001b[0m\u001b[1;33m)\u001b[0m\u001b[1;33m\u001b[0m\u001b[1;33m\u001b[0m\u001b[0m\n\u001b[0;32m    159\u001b[0m         \u001b[1;32melse\u001b[0m\u001b[1;33m:\u001b[0m\u001b[1;33m\u001b[0m\u001b[1;33m\u001b[0m\u001b[0m\n",
      "\u001b[1;32m~\\AppData\\Local\\Continuum\\anaconda3\\lib\\site-packages\\docx\\oxml\\text\\run.py\u001b[0m in \u001b[0;36mflush\u001b[1;34m(self)\u001b[0m\n\u001b[0;32m    163\u001b[0m         \u001b[0mtext\u001b[0m \u001b[1;33m=\u001b[0m \u001b[1;34m''\u001b[0m\u001b[1;33m.\u001b[0m\u001b[0mjoin\u001b[0m\u001b[1;33m(\u001b[0m\u001b[0mself\u001b[0m\u001b[1;33m.\u001b[0m\u001b[0m_bfr\u001b[0m\u001b[1;33m)\u001b[0m\u001b[1;33m\u001b[0m\u001b[1;33m\u001b[0m\u001b[0m\n\u001b[0;32m    164\u001b[0m         \u001b[1;32mif\u001b[0m \u001b[0mtext\u001b[0m\u001b[1;33m:\u001b[0m\u001b[1;33m\u001b[0m\u001b[1;33m\u001b[0m\u001b[0m\n\u001b[1;32m--> 165\u001b[1;33m             \u001b[0mself\u001b[0m\u001b[1;33m.\u001b[0m\u001b[0m_r\u001b[0m\u001b[1;33m.\u001b[0m\u001b[0madd_t\u001b[0m\u001b[1;33m(\u001b[0m\u001b[0mtext\u001b[0m\u001b[1;33m)\u001b[0m\u001b[1;33m\u001b[0m\u001b[1;33m\u001b[0m\u001b[0m\n\u001b[0m\u001b[0;32m    166\u001b[0m         \u001b[1;32mdel\u001b[0m \u001b[0mself\u001b[0m\u001b[1;33m.\u001b[0m\u001b[0m_bfr\u001b[0m\u001b[1;33m[\u001b[0m\u001b[1;33m:\u001b[0m\u001b[1;33m]\u001b[0m\u001b[1;33m\u001b[0m\u001b[1;33m\u001b[0m\u001b[0m\n",
      "\u001b[1;32m~\\AppData\\Local\\Continuum\\anaconda3\\lib\\site-packages\\docx\\oxml\\text\\run.py\u001b[0m in \u001b[0;36madd_t\u001b[1;34m(self, text)\u001b[0m\n\u001b[0;32m     39\u001b[0m         \u001b[0mReturn\u001b[0m \u001b[0ma\u001b[0m \u001b[0mnewly\u001b[0m \u001b[0madded\u001b[0m\u001b[0;31m \u001b[0m\u001b[0;31m`\u001b[0m\u001b[0;31m`\u001b[0m\u001b[1;33m<\u001b[0m\u001b[0mw\u001b[0m\u001b[1;33m:\u001b[0m\u001b[0mt\u001b[0m\u001b[1;33m>\u001b[0m\u001b[0;31m`\u001b[0m\u001b[0;31m`\u001b[0m \u001b[0melement\u001b[0m \u001b[0mcontaining\u001b[0m \u001b[1;33m*\u001b[0m\u001b[0mtext\u001b[0m\u001b[1;33m*\u001b[0m\u001b[1;33m.\u001b[0m\u001b[1;33m\u001b[0m\u001b[1;33m\u001b[0m\u001b[0m\n\u001b[0;32m     40\u001b[0m         \"\"\"\n\u001b[1;32m---> 41\u001b[1;33m         \u001b[0mt\u001b[0m \u001b[1;33m=\u001b[0m \u001b[0mself\u001b[0m\u001b[1;33m.\u001b[0m\u001b[0m_add_t\u001b[0m\u001b[1;33m(\u001b[0m\u001b[0mtext\u001b[0m\u001b[1;33m=\u001b[0m\u001b[0mtext\u001b[0m\u001b[1;33m)\u001b[0m\u001b[1;33m\u001b[0m\u001b[1;33m\u001b[0m\u001b[0m\n\u001b[0m\u001b[0;32m     42\u001b[0m         \u001b[1;32mif\u001b[0m \u001b[0mlen\u001b[0m\u001b[1;33m(\u001b[0m\u001b[0mtext\u001b[0m\u001b[1;33m.\u001b[0m\u001b[0mstrip\u001b[0m\u001b[1;33m(\u001b[0m\u001b[1;33m)\u001b[0m\u001b[1;33m)\u001b[0m \u001b[1;33m<\u001b[0m \u001b[0mlen\u001b[0m\u001b[1;33m(\u001b[0m\u001b[0mtext\u001b[0m\u001b[1;33m)\u001b[0m\u001b[1;33m:\u001b[0m\u001b[1;33m\u001b[0m\u001b[1;33m\u001b[0m\u001b[0m\n\u001b[0;32m     43\u001b[0m             \u001b[0mt\u001b[0m\u001b[1;33m.\u001b[0m\u001b[0mset\u001b[0m\u001b[1;33m(\u001b[0m\u001b[0mqn\u001b[0m\u001b[1;33m(\u001b[0m\u001b[1;34m'xml:space'\u001b[0m\u001b[1;33m)\u001b[0m\u001b[1;33m,\u001b[0m \u001b[1;34m'preserve'\u001b[0m\u001b[1;33m)\u001b[0m\u001b[1;33m\u001b[0m\u001b[1;33m\u001b[0m\u001b[0m\n",
      "\u001b[1;32m~\\AppData\\Local\\Continuum\\anaconda3\\lib\\site-packages\\docx\\oxml\\xmlchemy.py\u001b[0m in \u001b[0;36m_add_child\u001b[1;34m(obj, **attrs)\u001b[0m\n\u001b[0;32m    271\u001b[0m             \u001b[0mchild\u001b[0m \u001b[1;33m=\u001b[0m \u001b[0mnew_method\u001b[0m\u001b[1;33m(\u001b[0m\u001b[1;33m)\u001b[0m\u001b[1;33m\u001b[0m\u001b[1;33m\u001b[0m\u001b[0m\n\u001b[0;32m    272\u001b[0m             \u001b[1;32mfor\u001b[0m \u001b[0mkey\u001b[0m\u001b[1;33m,\u001b[0m \u001b[0mvalue\u001b[0m \u001b[1;32min\u001b[0m \u001b[0mattrs\u001b[0m\u001b[1;33m.\u001b[0m\u001b[0mitems\u001b[0m\u001b[1;33m(\u001b[0m\u001b[1;33m)\u001b[0m\u001b[1;33m:\u001b[0m\u001b[1;33m\u001b[0m\u001b[1;33m\u001b[0m\u001b[0m\n\u001b[1;32m--> 273\u001b[1;33m                 \u001b[0msetattr\u001b[0m\u001b[1;33m(\u001b[0m\u001b[0mchild\u001b[0m\u001b[1;33m,\u001b[0m \u001b[0mkey\u001b[0m\u001b[1;33m,\u001b[0m \u001b[0mvalue\u001b[0m\u001b[1;33m)\u001b[0m\u001b[1;33m\u001b[0m\u001b[1;33m\u001b[0m\u001b[0m\n\u001b[0m\u001b[0;32m    274\u001b[0m             \u001b[0minsert_method\u001b[0m \u001b[1;33m=\u001b[0m \u001b[0mgetattr\u001b[0m\u001b[1;33m(\u001b[0m\u001b[0mobj\u001b[0m\u001b[1;33m,\u001b[0m \u001b[0mself\u001b[0m\u001b[1;33m.\u001b[0m\u001b[0m_insert_method_name\u001b[0m\u001b[1;33m)\u001b[0m\u001b[1;33m\u001b[0m\u001b[1;33m\u001b[0m\u001b[0m\n\u001b[0;32m    275\u001b[0m             \u001b[0minsert_method\u001b[0m\u001b[1;33m(\u001b[0m\u001b[0mchild\u001b[0m\u001b[1;33m)\u001b[0m\u001b[1;33m\u001b[0m\u001b[1;33m\u001b[0m\u001b[0m\n",
      "\u001b[1;32msrc/lxml/etree.pyx\u001b[0m in \u001b[0;36mlxml.etree._Element.text.__set__\u001b[1;34m()\u001b[0m\n",
      "\u001b[1;32msrc/lxml/apihelpers.pxi\u001b[0m in \u001b[0;36mlxml.etree._setNodeText\u001b[1;34m()\u001b[0m\n",
      "\u001b[1;32msrc/lxml/apihelpers.pxi\u001b[0m in \u001b[0;36mlxml.etree._createTextNode\u001b[1;34m()\u001b[0m\n",
      "\u001b[1;32msrc/lxml/apihelpers.pxi\u001b[0m in \u001b[0;36mlxml.etree._utf8\u001b[1;34m()\u001b[0m\n",
      "\u001b[1;31mValueError\u001b[0m: All strings must be XML compatible: Unicode or ASCII, no NULL bytes or control characters"
     ]
    }
   ],
   "source": [
    "from docx import Document\n",
    "from docx.enum.text import WD_ALIGN_PARAGRAPH\n",
    "from docx.shared import Cm\n",
    "from docx.shared import Pt \n",
    "doc = Document()\n",
    "doc = Document()\n",
    "def negrita(parrafo,texto):\n",
    "    parrafo.add_run(texto).bold = True\n",
    "    \n",
    "#===================MARGENES=========================\n",
    "#section.left_margin = Cm(3)\n",
    "#section.right_margin = Cm(3)\n",
    "#section.top_margin = Cm(2.5)\n",
    "#section.bottom_margin = Cm(2.5)\n",
    "#=============FORMATO==========================================\n",
    "style = doc.styles['Normal'] \n",
    "font = style.font\n",
    "font.name = 'Arial Narrow'\n",
    "font.size = Pt(12)\n",
    "#=============ENCABEZAD0=====================================================\n",
    "header = doc.sections[0].header # poner la sección donde irá el encabezado\n",
    "p = header.paragraphs[0]\n",
    "p.alignment = WD_ALIGN_PARAGRAPH.LEFT\n",
    "r= p.add_run()\n",
    "doc.sections[0].left_margin = Cm(1.3)\n",
    "doc.sections[0].top_margin = Cm(1.3)\n",
    "doc.sections[0].bottom_margin = Cm(1.3)\n",
    "# r.add_picture('logo2.png',  width=Cm(18.0))\n",
    "#===============PRIMER PARRAFO==========================================================\n",
    "p1 = doc.add_paragraph()\n",
    "p1.alignment = WD_ALIGN_PARAGRAPH.JUSTIFY\n",
    "p1.add_run('\\nSeñor \\njuez, \\n\\n E.\\tS.\\tD.').bold = True\n",
    "negrita(p1,'hola')\n",
    "#================SEGUNDO PARRAFO (REFERENCIA)====================================\n",
    "p2 = doc.add_paragraph()\n",
    "p2.alignment = WD_ALIGN_PARAGRAPH.RIGHT\n",
    "p2.add_run('\\t\\n\\n REFERENCIA:').bold = True\n",
    "p2.add_run(' Divorcio de ')\n",
    "p2.add_run('Juan').bold = True\n",
    "p2.add_run(' contra')\n",
    "p2.add_run(' John').bold = True\n",
    "negrita(p1, 'hola')\n",
    "#------------------------CUERPO DEL PODER---------------------------------------\n",
    "#====================TERCER PARRAFO========================================\n",
    "p3 = doc.add_paragraph()\n",
    "# p3.add_run(\"\")\n",
    "\n",
    "texto = f'''\\n\\n Juan, mayor de edad, domiciliado en la ciudad de Bogotá D.C., identificado con C.C.\n",
    "No. 32423432, y dirección de notificación electrónica juan@gmail.com, por medio del presente escrito, \n",
    "otorgo PODER ESPECIAL, AMPLIO Y SUFICIENTE a HECTOR , mayor de edad, domiciliado en Bogotá D.C., identificado con C.C. No. 324324, miembro activo del Consultorio Jurídico de la Universidad Externado de Colombia, portador del carné No.  23324, con dirección de notificación electrónica conjurlaboral@uexternado.edu.co. Con la finalidad de que en mi nombre  y representación, inicie y lleve hasta su terminación el DIVORCIO contra JOHN, mayor de edad, domiciliada en Bogotá D.C., identificada con C.C. No. 4576465476435. Con dirección de notificación electrónica: john@gmail.com.\n",
    "\n",
    "Mi apoderado queda facultado para solicitar medidas cautelares, desistir, renunciar, sustituir, recibir, transigir, asumir el presente poder y demás facultades en los términos del artículo 77 del Código General del Proceso.\n",
    "\n",
    "Sírvase, Señor Juez, reconocerle personería jurídica a mi apoderado, en los términos y para los efectos del presente poder.\n",
    "'''\n",
    "# negrita(p3,'Juan')\n",
    "p3.add_run(texto)\n",
    "\n",
    "p3.alignment = WD_ALIGN_PARAGRAPH.THAI_JUSTIFY\n",
    "\n",
    "#===============SALVAR DOCUMENTO=============================================\n",
    "doc.save('poder.docx')"
   ]
  },
  {
   "cell_type": "code",
   "execution_count": 21,
   "metadata": {},
   "outputs": [],
   "source": [
    "def negrita(parrafo,texto):\n",
    "    \"\"\"Esta función agrega en negrilla el texto en el párrafo dado\"\"\"\n",
    "    parrafo.add_run(texto).bold = True"
   ]
  },
  {
   "cell_type": "code",
   "execution_count": 33,
   "metadata": {},
   "outputs": [],
   "source": [
    "nom_poder=\"Valentina Gordillo Martínez\"\n",
    "gen_poder=\"a\"\n",
    "id_poder = \"CC.\"\n",
    "ced_poder = \"105302546\"\n",
    "email=\"valengordillo@hotmail.com\"\n",
    "nom_apo=\"Joaquín Ron\"\n",
    "gen_apo=\"o\"\n",
    "id_apo = \"CE\"\n",
    "ced_apo=\"1018546879\"\n",
    "portadore = \"\"\n",
    "num_car = \"12345\"\n",
    "email_apo= \"joaron@gmail.com\"\n",
    "tipo_proceso = \"PROCESO DE DIVORCIO\"\n",
    "nom_contra=\"Laura Huertas\"\n",
    "gen_contra=\"a\"\n",
    "id_contra = \"CC\"\n",
    "ced_contra=\"1056987484\"\n",
    "email_2=\"lauh@latinmail.com\"\n"
   ]
  },
  {
   "cell_type": "code",
   "execution_count": 38,
   "metadata": {},
   "outputs": [],
   "source": [
    "from docx import Document\n",
    "from docx.enum.text import WD_ALIGN_PARAGRAPH\n",
    "from docx.shared import Cm\n",
    "from docx.shared import Pt \n",
    "doc = Document()\n",
    "    \n",
    "#===================MÁRGENES=========================\n",
    "doc.sections[0].left_margin = Cm(2)\n",
    "doc.sections[0].top_margin = Cm(2)\n",
    "doc.sections[0].bottom_margin = Cm(2)\n",
    "doc.sections[0].right_margin = Cm(2)\n",
    "#=============FORMATO==========================================\n",
    "style = doc.styles['Normal'] \n",
    "font = style.font\n",
    "font.name = 'Arial Narrow'\n",
    "font.size = Pt(12)\n",
    "#=============ENCABEZAD0=====================================================\n",
    "header = doc.sections[0].header # poner la sección donde irá el encabezado\n",
    "p = header.paragraphs[0]\n",
    "p.alignment = WD_ALIGN_PARAGRAPH.LEFT\n",
    "r= p.add_run()\n",
    "r.add_picture(r'D:\\Cambia\\habeas_app\\static\\logo2.png',  width=Cm(18.0))\n",
    "#===============PRIMER PARRAFO==========================================================\n",
    "p1 = doc.add_paragraph()\n",
    "p1.alignment = WD_ALIGN_PARAGRAPH.JUSTIFY\n",
    "p1.add_run('\\nSeñor \\nJuez, \\n\\nE.\\tS.\\tD.').bold = True\n",
    "#================SEGUNDO PARRAFO (REFERENCIA)====================================\n",
    "p2 = doc.add_paragraph()\n",
    "p2.alignment = WD_ALIGN_PARAGRAPH.RIGHT\n",
    "p2.add_run('\\t\\n\\n REFERENCIA:').bold = True\n",
    "p2.add_run(' Divorcio de ')\n",
    "p2.add_run(f'{nom_poder}').bold = True\n",
    "p2.add_run(' contra')\n",
    "p2.add_run(f' {nom_contra}').bold = True\n",
    "#------------------------CUERPO DEL PODER---------------------------------------\n",
    "#====================TERCER PARRAFO========================================\n",
    "p3 = doc.add_paragraph()\n",
    "p3.add_run(\"\\n\\n\")\n",
    "negrita(p3,f'{nom_poder}')   ### Negrilla\n",
    "p3.add_run(\", mayor de edad, domiciliad\")\n",
    "p3.add_run(f\"{gen_poder} en la ciudad de Bogotá D.C., identificad{gen_poder} con \\\n",
    "{id_poder} No. {ced_poder} y dirección de notificación electrónica {email}\\\n",
    ", por medio del presente escrito, otorgo \")\n",
    "negrita(p3,f\"PODER ESPECIAL, AMPLIO Y SUFICIENTE\") ### Negrilla\n",
    "p3.add_run(f\" a \")\n",
    "negrita(p3,f\"{nom_apo}\")  ### Negrilla\n",
    "p3.add_run(f\", mayor de edad, domiciliad{gen_apo} en Bogotá D.C., \\\n",
    "identificad{gen_apo} con {id_apo}\\\n",
    " No. {ced_apo}, miembro activo del Consultorio Jurídico de la Universidad \\\n",
    "Externado de Colombia, portador{portadore} del carné No. {num_car}, \\\n",
    "con dirección de notificación electrónica {email_apo}, \\\n",
    "con la finalidad de que en mi nombre y representación, inicie y lleve \\\n",
    "hasta su terminación el {tipo_proceso} contra \")\n",
    "negrita(p3,f\"{nom_contra}\") ### Negrilla\n",
    "p3.add_run(f\", mayor de edad, domiciliad{gen_contra} en Bogotá D.C., \\\n",
    "identificad{gen_contra}\\u00A0con\\u00A0{id_contra}\\u00A0No.\\u00A0{ced_contra}.\\n\\\n",
    "{email_2} \\n\\\n",
    "Mi apoderad{gen_apo} queda facultad{gen_apo} para solicitar medidas cautelares, \\\n",
    "desistir, renunciar, sustituir, recibir, transigir, asumir el presente poder y \\\n",
    "demás facultades en los términos del artículo 77 del \\\n",
    "Código General del Proceso. \\n\")\n",
    "\n",
    "p4 = doc.add_paragraph()\n",
    "p4.add_run(f\"Sírvase, Señor Juez, reconocerle personería jurídica a mi apoderad{gen_apo}, \\\n",
    "en los términos y para los efectos del\\u00A0presente\\u00A0poder. \\u00A0\\n\" )\n",
    "\n",
    "p5 = doc.add_paragraph()\n",
    "p5.add_run(\"Del Señor Juez,\\n\\n\\n\\n\")\n",
    "negrita(p5,f\"{nom_poder}\\n\")\n",
    "p5.add_run(f\"{id_poder} No. {ced_poder}\\nAcepto,\\n\\n\\n\\n\")\n",
    "negrita(p5,f\"{nom_apo}\\n\")\n",
    "p5.add_run(f\"{id_apo} No. {ced_apo} \\nCarné Consultorio : {num_car} \\n\\\n",
    "Dirección de notificación electrónica: {email_apo}\")\n",
    "\n",
    "\n",
    "p3.alignment = WD_ALIGN_PARAGRAPH.THAI_JUSTIFY\n",
    "p4.alignment = WD_ALIGN_PARAGRAPH.THAI_JUSTIFY\n",
    "\n",
    "#===============SALVAR DOCUMENTO=============================================\n",
    "doc.save('poder1.docx')"
   ]
  },
  {
   "cell_type": "code",
   "execution_count": 29,
   "metadata": {},
   "outputs": [
    {
     "data": {
      "text/plain": [
       "'a'"
      ]
     },
     "execution_count": 29,
     "metadata": {},
     "output_type": "execute_result"
    }
   ],
   "source": [
    "f\"{gen_poder}\""
   ]
  },
  {
   "cell_type": "code",
   "execution_count": null,
   "metadata": {},
   "outputs": [],
   "source": []
  }
 ],
 "metadata": {
  "kernelspec": {
   "display_name": "Python 3",
   "language": "python",
   "name": "python3"
  },
  "language_info": {
   "codemirror_mode": {
    "name": "ipython",
    "version": 3
   },
   "file_extension": ".py",
   "mimetype": "text/x-python",
   "name": "python",
   "nbconvert_exporter": "python",
   "pygments_lexer": "ipython3",
   "version": "3.7.3"
  }
 },
 "nbformat": 4,
 "nbformat_minor": 5
}
